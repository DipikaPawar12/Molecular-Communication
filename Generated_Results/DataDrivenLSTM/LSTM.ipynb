{
  "nbformat": 4,
  "nbformat_minor": 0,
  "metadata": {
    "colab": {
      "name": "LSTMipynb",
      "provenance": [],
      "collapsed_sections": []
    },
    "kernelspec": {
      "display_name": "Python 3",
      "name": "python3"
    }
  },
  "cells": [
    {
      "cell_type": "code",
      "metadata": {
        "id": "s8FAA03u3HK6",
        "outputId": "3f86aab0-9ede-487d-c188-395331b95ebd",
        "colab": {
          "resources": {
            "http://localhost:8080/nbextensions/google.colab/files.js": {
              "data": "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",
              "ok": true,
              "headers": [
                [
                  "content-type",
                  "application/javascript"
                ]
              ],
              "status": 200,
              "status_text": ""
            }
          },
          "base_uri": "https://localhost:8080/",
          "height": 238
        }
      },
      "source": [
        "from google.colab import files\n",
        "uploadedy = files.upload()\n",
        "\n",
        "uploadedx = files.upload()\n",
        "#number of receiverd particle\n",
        "uploadedy1 = files.upload()\n",
        "#data label\n",
        "uploadedx1 = files.upload()"
      ],
      "execution_count": 1,
      "outputs": [
        {
          "output_type": "display_data",
          "data": {
            "text/html": [
              "\n",
              "     <input type=\"file\" id=\"files-8c07461d-8b24-4771-a634-18f703834d86\" name=\"files[]\" multiple disabled\n",
              "        style=\"border:none\" />\n",
              "     <output id=\"result-8c07461d-8b24-4771-a634-18f703834d86\">\n",
              "      Upload widget is only available when the cell has been executed in the\n",
              "      current browser session. Please rerun this cell to enable.\n",
              "      </output>\n",
              "      <script src=\"/nbextensions/google.colab/files.js\"></script> "
            ],
            "text/plain": [
              "<IPython.core.display.HTML object>"
            ]
          },
          "metadata": {
            "tags": []
          }
        },
        {
          "output_type": "stream",
          "text": [
            "Saving ri.csv to ri.csv\n"
          ],
          "name": "stdout"
        },
        {
          "output_type": "display_data",
          "data": {
            "text/html": [
              "\n",
              "     <input type=\"file\" id=\"files-cd5ea13d-c019-45f9-8834-b90d2ead4aba\" name=\"files[]\" multiple disabled\n",
              "        style=\"border:none\" />\n",
              "     <output id=\"result-cd5ea13d-c019-45f9-8834-b90d2ead4aba\">\n",
              "      Upload widget is only available when the cell has been executed in the\n",
              "      current browser session. Please rerun this cell to enable.\n",
              "      </output>\n",
              "      <script src=\"/nbextensions/google.colab/files.js\"></script> "
            ],
            "text/plain": [
              "<IPython.core.display.HTML object>"
            ]
          },
          "metadata": {
            "tags": []
          }
        },
        {
          "output_type": "stream",
          "text": [
            "Saving tx.csv to tx.csv\n"
          ],
          "name": "stdout"
        },
        {
          "output_type": "display_data",
          "data": {
            "text/html": [
              "\n",
              "     <input type=\"file\" id=\"files-98bd7798-08c7-4e1e-9898-60812111f7cc\" name=\"files[]\" multiple disabled\n",
              "        style=\"border:none\" />\n",
              "     <output id=\"result-98bd7798-08c7-4e1e-9898-60812111f7cc\">\n",
              "      Upload widget is only available when the cell has been executed in the\n",
              "      current browser session. Please rerun this cell to enable.\n",
              "      </output>\n",
              "      <script src=\"/nbextensions/google.colab/files.js\"></script> "
            ],
            "text/plain": [
              "<IPython.core.display.HTML object>"
            ]
          },
          "metadata": {
            "tags": []
          }
        },
        {
          "output_type": "stream",
          "text": [
            "Saving riw.csv to riw.csv\n"
          ],
          "name": "stdout"
        },
        {
          "output_type": "display_data",
          "data": {
            "text/html": [
              "\n",
              "     <input type=\"file\" id=\"files-bcb451a2-90dc-44f5-b5d3-ffca63d892e3\" name=\"files[]\" multiple disabled\n",
              "        style=\"border:none\" />\n",
              "     <output id=\"result-bcb451a2-90dc-44f5-b5d3-ffca63d892e3\">\n",
              "      Upload widget is only available when the cell has been executed in the\n",
              "      current browser session. Please rerun this cell to enable.\n",
              "      </output>\n",
              "      <script src=\"/nbextensions/google.colab/files.js\"></script> "
            ],
            "text/plain": [
              "<IPython.core.display.HTML object>"
            ]
          },
          "metadata": {
            "tags": []
          }
        },
        {
          "output_type": "stream",
          "text": [
            "Saving txw.csv to txw.csv\n"
          ],
          "name": "stdout"
        }
      ]
    },
    {
      "cell_type": "code",
      "metadata": {
        "id": "qT6rEPNL3NSq"
      },
      "source": [
        "import numpy\n",
        "from keras.datasets import imdb\n",
        "from keras.models import Sequential\n",
        "from keras.layers import Dense, Dropout\n",
        "from keras.layers import LSTM\n",
        "from keras.layers.embeddings import Embedding\n",
        "from keras.preprocessing import sequence\n",
        "\n",
        "import numpy as np\n",
        "import matplotlib.pyplot as plt\n",
        "import pandas as pd\n",
        "import tensorflow as tf\n",
        "\n",
        "import io"
      ],
      "execution_count": 2,
      "outputs": []
    },
    {
      "cell_type": "code",
      "metadata": {
        "id": "hmAkfv3q3bJ7"
      },
      "source": [
        "#for the training \n",
        "datasetx = pd.read_csv(io.BytesIO(uploadedx['tx.csv']), delimiter=',')\n",
        "datasety = pd.read_csv(io.BytesIO(uploadedy['ri.csv']), delimiter=',')\n",
        "\n",
        "#for testing\n",
        "datasetx1 = pd.read_csv(io.BytesIO(uploadedx1['txw.csv']), delimiter=',')\n",
        "datasety1 = pd.read_csv(io.BytesIO(uploadedy1['riw.csv']), delimiter=',')\n",
        "\n",
        "X = datasety.iloc[:, 0:1].values\n",
        "y = datasetx.iloc[:, 0:1].values\n",
        "\n",
        "ri = datasety1.iloc[:, 0:1].values\n",
        "tx = datasetx1.iloc[:, 0:1].values"
      ],
      "execution_count": 3,
      "outputs": []
    },
    {
      "cell_type": "code",
      "metadata": {
        "id": "IefGCqTv3eIY"
      },
      "source": [
        "\n"
      ],
      "execution_count": null,
      "outputs": []
    },
    {
      "cell_type": "code",
      "metadata": {
        "id": "j9S8zwUHSh1u",
        "outputId": "119643a0-0b34-42d4-d143-5592106b3860",
        "colab": {
          "base_uri": "https://localhost:8080/"
        }
      },
      "source": [
        "\n",
        "np.reshape(X, (-1,1))\n",
        "np.reshape(y, (-1,1))\n",
        "\n",
        "\n",
        "print(X.shape)"
      ],
      "execution_count": 5,
      "outputs": [
        {
          "output_type": "stream",
          "text": [
            "(3000, 1)\n"
          ],
          "name": "stdout"
        }
      ]
    },
    {
      "cell_type": "code",
      "metadata": {
        "id": "AyeDDeBAbv8I",
        "outputId": "1e18427d-0463-4d99-d06c-f7215ade2efc",
        "colab": {
          "base_uri": "https://localhost:8080/"
        }
      },
      "source": [
        "print(X)"
      ],
      "execution_count": 7,
      "outputs": [
        {
          "output_type": "stream",
          "text": [
            "[[   2]\n",
            " [   3]\n",
            " [   6]\n",
            " ...\n",
            " [6642]\n",
            " [6607]\n",
            " [2362]]\n"
          ],
          "name": "stdout"
        }
      ]
    },
    {
      "cell_type": "code",
      "metadata": {
        "id": "x7sGj_cj32Nk",
        "outputId": "d045bf9a-a60e-4c30-a243-440f1defeca3",
        "colab": {
          "base_uri": "https://localhost:8080/"
        }
      },
      "source": [
        "# create the model\n",
        "#embedding_vecor_length = 32\n",
        "model = Sequential()\n",
        "model.add(Embedding(X.max()+500, 1, input_length=1))\n",
        "model.add(LSTM(1000))\n",
        "\n",
        "model.add(Dense(1, activation='sigmoid'))\n",
        "model.compile(loss='binary_crossentropy', optimizer='adam', metrics=['accuracy'])\n",
        "print(model.summary())\n",
        "history = model.fit(X, y,validation_split=0.33, epochs=50, batch_size=1000,verbose=1)\n",
        "\n",
        "# Final evaluation of the model\n",
        "scores = model.evaluate(X, y, verbose=0)\n",
        "predict = model.predict(X, verbose=0)\n",
        "print(\"Accuracy: %.2f%%\" % (scores[1]*100))\n",
        "\n"
      ],
      "execution_count": 24,
      "outputs": [
        {
          "output_type": "stream",
          "text": [
            "Model: \"sequential_6\"\n",
            "_________________________________________________________________\n",
            "Layer (type)                 Output Shape              Param #   \n",
            "=================================================================\n",
            "embedding_6 (Embedding)      (None, 1, 1)              7323      \n",
            "_________________________________________________________________\n",
            "lstm_6 (LSTM)                (None, 1000)              4008000   \n",
            "_________________________________________________________________\n",
            "dense_6 (Dense)              (None, 1)                 1001      \n",
            "=================================================================\n",
            "Total params: 4,016,324\n",
            "Trainable params: 4,016,324\n",
            "Non-trainable params: 0\n",
            "_________________________________________________________________\n",
            "None\n",
            "Epoch 1/50\n",
            "3/3 [==============================] - 1s 333ms/step - loss: 0.6931 - accuracy: 0.5037 - val_loss: 0.6930 - val_accuracy: 0.5086\n",
            "Epoch 2/50\n",
            "3/3 [==============================] - 1s 216ms/step - loss: 0.6930 - accuracy: 0.5107 - val_loss: 0.6931 - val_accuracy: 0.5015\n",
            "Epoch 3/50\n",
            "3/3 [==============================] - 1s 217ms/step - loss: 0.6931 - accuracy: 0.4833 - val_loss: 0.6931 - val_accuracy: 0.4914\n",
            "Epoch 4/50\n",
            "3/3 [==============================] - 1s 219ms/step - loss: 0.6931 - accuracy: 0.4963 - val_loss: 0.6931 - val_accuracy: 0.5126\n",
            "Epoch 5/50\n",
            "3/3 [==============================] - 1s 217ms/step - loss: 0.6929 - accuracy: 0.5600 - val_loss: 0.6930 - val_accuracy: 0.5298\n",
            "Epoch 6/50\n",
            "3/3 [==============================] - 1s 218ms/step - loss: 0.6928 - accuracy: 0.5565 - val_loss: 0.6930 - val_accuracy: 0.5247\n",
            "Epoch 7/50\n",
            "3/3 [==============================] - 1s 222ms/step - loss: 0.6927 - accuracy: 0.5640 - val_loss: 0.6929 - val_accuracy: 0.5076\n",
            "Epoch 8/50\n",
            "3/3 [==============================] - 1s 217ms/step - loss: 0.6925 - accuracy: 0.5167 - val_loss: 0.6929 - val_accuracy: 0.5086\n",
            "Epoch 9/50\n",
            "3/3 [==============================] - 1s 217ms/step - loss: 0.6922 - accuracy: 0.5107 - val_loss: 0.6929 - val_accuracy: 0.5086\n",
            "Epoch 10/50\n",
            "3/3 [==============================] - 1s 215ms/step - loss: 0.6920 - accuracy: 0.5107 - val_loss: 0.6928 - val_accuracy: 0.5086\n",
            "Epoch 11/50\n",
            "3/3 [==============================] - 1s 216ms/step - loss: 0.6917 - accuracy: 0.5107 - val_loss: 0.6928 - val_accuracy: 0.5086\n",
            "Epoch 12/50\n",
            "3/3 [==============================] - 1s 214ms/step - loss: 0.6913 - accuracy: 0.5107 - val_loss: 0.6928 - val_accuracy: 0.5086\n",
            "Epoch 13/50\n",
            "3/3 [==============================] - 1s 216ms/step - loss: 0.6910 - accuracy: 0.5107 - val_loss: 0.6928 - val_accuracy: 0.5086\n",
            "Epoch 14/50\n",
            "3/3 [==============================] - 1s 221ms/step - loss: 0.6906 - accuracy: 0.5107 - val_loss: 0.6929 - val_accuracy: 0.5086\n",
            "Epoch 15/50\n",
            "3/3 [==============================] - 1s 216ms/step - loss: 0.6902 - accuracy: 0.5107 - val_loss: 0.6929 - val_accuracy: 0.5086\n",
            "Epoch 16/50\n",
            "3/3 [==============================] - 1s 217ms/step - loss: 0.6896 - accuracy: 0.5107 - val_loss: 0.6929 - val_accuracy: 0.5086\n",
            "Epoch 17/50\n",
            "3/3 [==============================] - 1s 214ms/step - loss: 0.6889 - accuracy: 0.5107 - val_loss: 0.6929 - val_accuracy: 0.5086\n",
            "Epoch 18/50\n",
            "3/3 [==============================] - 1s 215ms/step - loss: 0.6881 - accuracy: 0.5107 - val_loss: 0.6929 - val_accuracy: 0.5076\n",
            "Epoch 19/50\n",
            "3/3 [==============================] - 1s 218ms/step - loss: 0.6872 - accuracy: 0.5192 - val_loss: 0.6929 - val_accuracy: 0.5005\n",
            "Epoch 20/50\n",
            "3/3 [==============================] - 1s 215ms/step - loss: 0.6861 - accuracy: 0.5650 - val_loss: 0.6929 - val_accuracy: 0.4955\n",
            "Epoch 21/50\n",
            "3/3 [==============================] - 1s 215ms/step - loss: 0.6850 - accuracy: 0.6267 - val_loss: 0.6930 - val_accuracy: 0.5045\n",
            "Epoch 22/50\n",
            "3/3 [==============================] - 1s 214ms/step - loss: 0.6837 - accuracy: 0.6620 - val_loss: 0.6931 - val_accuracy: 0.5197\n",
            "Epoch 23/50\n",
            "3/3 [==============================] - 1s 214ms/step - loss: 0.6820 - accuracy: 0.6710 - val_loss: 0.6931 - val_accuracy: 0.5126\n",
            "Epoch 24/50\n",
            "3/3 [==============================] - 1s 216ms/step - loss: 0.6801 - accuracy: 0.6740 - val_loss: 0.6932 - val_accuracy: 0.5146\n",
            "Epoch 25/50\n",
            "3/3 [==============================] - 1s 216ms/step - loss: 0.6779 - accuracy: 0.6869 - val_loss: 0.6934 - val_accuracy: 0.5136\n",
            "Epoch 26/50\n",
            "3/3 [==============================] - 1s 214ms/step - loss: 0.6753 - accuracy: 0.6829 - val_loss: 0.6935 - val_accuracy: 0.4823\n",
            "Epoch 27/50\n",
            "3/3 [==============================] - 1s 218ms/step - loss: 0.6724 - accuracy: 0.6730 - val_loss: 0.6938 - val_accuracy: 0.4945\n",
            "Epoch 28/50\n",
            "3/3 [==============================] - 1s 217ms/step - loss: 0.6693 - accuracy: 0.6546 - val_loss: 0.6943 - val_accuracy: 0.4844\n",
            "Epoch 29/50\n",
            "3/3 [==============================] - 1s 213ms/step - loss: 0.6659 - accuracy: 0.6560 - val_loss: 0.6945 - val_accuracy: 0.4904\n",
            "Epoch 30/50\n",
            "3/3 [==============================] - 1s 219ms/step - loss: 0.6621 - accuracy: 0.6750 - val_loss: 0.6947 - val_accuracy: 0.4823\n",
            "Epoch 31/50\n",
            "3/3 [==============================] - 1s 224ms/step - loss: 0.6579 - accuracy: 0.6839 - val_loss: 0.6953 - val_accuracy: 0.4844\n",
            "Epoch 32/50\n",
            "3/3 [==============================] - 1s 220ms/step - loss: 0.6533 - accuracy: 0.6869 - val_loss: 0.6959 - val_accuracy: 0.4955\n",
            "Epoch 33/50\n",
            "3/3 [==============================] - 1s 213ms/step - loss: 0.6487 - accuracy: 0.6884 - val_loss: 0.6969 - val_accuracy: 0.4854\n",
            "Epoch 34/50\n",
            "3/3 [==============================] - 1s 214ms/step - loss: 0.6438 - accuracy: 0.6854 - val_loss: 0.6976 - val_accuracy: 0.4904\n",
            "Epoch 35/50\n",
            "3/3 [==============================] - 1s 215ms/step - loss: 0.6381 - accuracy: 0.6929 - val_loss: 0.6981 - val_accuracy: 0.4783\n",
            "Epoch 36/50\n",
            "3/3 [==============================] - 1s 212ms/step - loss: 0.6317 - accuracy: 0.6984 - val_loss: 0.6991 - val_accuracy: 0.4793\n",
            "Epoch 37/50\n",
            "3/3 [==============================] - 1s 216ms/step - loss: 0.6256 - accuracy: 0.6989 - val_loss: 0.7003 - val_accuracy: 0.4763\n",
            "Epoch 38/50\n",
            "3/3 [==============================] - 1s 216ms/step - loss: 0.6188 - accuracy: 0.7013 - val_loss: 0.7009 - val_accuracy: 0.5005\n",
            "Epoch 39/50\n",
            "3/3 [==============================] - 1s 215ms/step - loss: 0.6116 - accuracy: 0.7048 - val_loss: 0.7019 - val_accuracy: 0.5045\n",
            "Epoch 40/50\n",
            "3/3 [==============================] - 1s 216ms/step - loss: 0.6038 - accuracy: 0.7098 - val_loss: 0.7039 - val_accuracy: 0.4904\n",
            "Epoch 41/50\n",
            "3/3 [==============================] - 1s 230ms/step - loss: 0.5972 - accuracy: 0.7118 - val_loss: 0.7059 - val_accuracy: 0.4995\n",
            "Epoch 42/50\n",
            "3/3 [==============================] - 1s 218ms/step - loss: 0.5909 - accuracy: 0.7168 - val_loss: 0.7074 - val_accuracy: 0.4934\n",
            "Epoch 43/50\n",
            "3/3 [==============================] - 1s 219ms/step - loss: 0.5842 - accuracy: 0.7113 - val_loss: 0.7084 - val_accuracy: 0.5005\n",
            "Epoch 44/50\n",
            "3/3 [==============================] - 1s 218ms/step - loss: 0.5785 - accuracy: 0.7138 - val_loss: 0.7100 - val_accuracy: 0.4985\n",
            "Epoch 45/50\n",
            "3/3 [==============================] - 1s 213ms/step - loss: 0.5731 - accuracy: 0.7123 - val_loss: 0.7121 - val_accuracy: 0.4934\n",
            "Epoch 46/50\n",
            "3/3 [==============================] - 1s 217ms/step - loss: 0.5679 - accuracy: 0.7118 - val_loss: 0.7154 - val_accuracy: 0.4985\n",
            "Epoch 47/50\n",
            "3/3 [==============================] - 1s 214ms/step - loss: 0.5638 - accuracy: 0.7148 - val_loss: 0.7200 - val_accuracy: 0.5055\n",
            "Epoch 48/50\n",
            "3/3 [==============================] - 1s 219ms/step - loss: 0.5601 - accuracy: 0.7128 - val_loss: 0.7239 - val_accuracy: 0.5156\n",
            "Epoch 49/50\n",
            "3/3 [==============================] - 1s 217ms/step - loss: 0.5563 - accuracy: 0.7128 - val_loss: 0.7259 - val_accuracy: 0.5136\n",
            "Epoch 50/50\n",
            "3/3 [==============================] - 1s 217ms/step - loss: 0.5512 - accuracy: 0.7133 - val_loss: 0.7275 - val_accuracy: 0.5106\n",
            "Accuracy: 64.73%\n"
          ],
          "name": "stdout"
        }
      ]
    },
    {
      "cell_type": "code",
      "metadata": {
        "id": "XK4A1PboccHN",
        "outputId": "7123761c-d159-4869-9526-5e6216f50dc1",
        "colab": {
          "base_uri": "https://localhost:8080/",
          "height": 590
        }
      },
      "source": [
        "\n",
        "print(history.history.keys())\n",
        "# summarize history for accuracy\n",
        "plt.plot(history.history['accuracy'])\n",
        "plt.plot(history.history['val_accuracy'])\n",
        "plt.title('model accuracy')\n",
        "plt.ylabel('accuracy')\n",
        "plt.xlabel('epoch')\n",
        "plt.savefig('snip2')\n",
        "plt.legend(['train', 'test'], loc='upper left')\n",
        "plt.show()\n",
        " #summarize history for loss\n",
        "plt.plot(history.history['loss'])\n",
        "plt.plot(history.history['val_loss'])\n",
        "plt.title('model loss')\n",
        "plt.ylabel('loss')\n",
        "plt.xlabel('epoch')\n",
        "plt.savefig('snip1')\n",
        "plt.legend(['train', 'test'], loc='upper left')\n",
        "plt.show()"
      ],
      "execution_count": 25,
      "outputs": [
        {
          "output_type": "stream",
          "text": [
            "dict_keys(['loss', 'accuracy', 'val_loss', 'val_accuracy'])\n"
          ],
          "name": "stdout"
        },
        {
          "output_type": "display_data",
          "data": {
            "image/png": "[encoded data removed]",
            "text/plain": [
              "<Figure size 432x288 with 1 Axes>"
            ]
          },
          "metadata": {
            "tags": [],
            "needs_background": "light"
          }
        },
        {
          "output_type": "display_data",
          "data": {
            "image/png": "[encoded data removed]",
            "text/plain": [
              "<Figure size 432x288 with 1 Axes>"
            ]
          },
          "metadata": {
            "tags": [],
            "needs_background": "light"
          }
        }
      ]
    },
    {
      "cell_type": "code",
      "metadata": {
        "id": "u2EgtlDm36Gc",
        "outputId": "596cad7f-1090-446f-f075-e67ccc8ed050",
        "colab": {
          "base_uri": "https://localhost:8080/",
          "height": 1000
        }
      },
      "source": [
        "pd_FM = {}\n",
        "idx=0\n",
        "X_FM_lb=[]\n",
        "for snr in range(-5, 46, 1):\n",
        "  X_FM_lb.append(ri[idx:idx+100]) # Here we are using difference of 100\n",
        "  idx=idx+100\n",
        "\n",
        "print(len(X_FM_lb))\n",
        "\n",
        "\n",
        "for snr in range(-5, 46, 1):\n",
        "  y_snr = np.ones((X_FM_lb[snr].shape[0], 1))\n",
        "  scores = model.evaluate(X_FM_lb[snr+5], y_snr)\n",
        "  print(\"At SNR = \" + str(snr) + \"\\n%s: %.2f%%\" % (model.metrics_names[1], scores[1]*100))\n",
        "  pd_FM[snr] =(1- scores[1])/2\n",
        "  \n",
        "plt.plot(range(-5, 46, 1), list(pd_FM.values())) #setting the range of the BER\n",
        "\n",
        "\n",
        "plt.yscale('log')\n",
        "plt.xlabel('SNR Range')\n",
        "plt.ylabel('BER')\n",
        "plt.grid()\n",
        "plt.legend(loc='upper right',ncol = 1)\n",
        "plt.savefig('snip')\n",
        "plt.show()"
      ],
      "execution_count": 26,
      "outputs": [
        {
          "output_type": "stream",
          "text": [
            "51\n",
            "4/4 [==============================] - 0s 6ms/step - loss: 1.6905 - accuracy: 0.0000e+00\n",
            "At SNR = -5\n",
            "accuracy: 0.00%\n",
            "4/4 [==============================] - 0s 7ms/step - loss: 1.6944 - accuracy: 0.0000e+00\n",
            "At SNR = -4\n",
            "accuracy: 0.00%\n",
            "4/4 [==============================] - 0s 6ms/step - loss: 1.6922 - accuracy: 0.0000e+00\n",
            "At SNR = -3\n",
            "accuracy: 0.00%\n",
            "4/4 [==============================] - 0s 6ms/step - loss: 1.6555 - accuracy: 0.0000e+00\n",
            "At SNR = -2\n",
            "accuracy: 0.00%\n",
            "4/4 [==============================] - 0s 6ms/step - loss: 1.6633 - accuracy: 0.0000e+00\n",
            "At SNR = -1\n",
            "accuracy: 0.00%\n",
            "4/4 [==============================] - 0s 6ms/step - loss: 1.6905 - accuracy: 0.0000e+00\n",
            "At SNR = 0\n",
            "accuracy: 0.00%\n",
            "4/4 [==============================] - 0s 6ms/step - loss: 1.6590 - accuracy: 0.0000e+00\n",
            "At SNR = 1\n",
            "accuracy: 0.00%\n",
            "4/4 [==============================] - 0s 6ms/step - loss: 1.6257 - accuracy: 0.0000e+00\n",
            "At SNR = 2\n",
            "accuracy: 0.00%\n",
            "4/4 [==============================] - 0s 6ms/step - loss: 1.6450 - accuracy: 0.0000e+00\n",
            "At SNR = 3\n",
            "accuracy: 0.00%\n",
            "4/4 [==============================] - 0s 7ms/step - loss: 1.5929 - accuracy: 0.0000e+00\n",
            "At SNR = 4\n",
            "accuracy: 0.00%\n",
            "4/4 [==============================] - 0s 6ms/step - loss: 1.5860 - accuracy: 0.0000e+00\n",
            "At SNR = 5\n",
            "accuracy: 0.00%\n",
            "4/4 [==============================] - 0s 6ms/step - loss: 1.5705 - accuracy: 0.0000e+00\n",
            "At SNR = 6\n",
            "accuracy: 0.00%\n",
            "4/4 [==============================] - 0s 6ms/step - loss: 1.5915 - accuracy: 0.0000e+00\n",
            "At SNR = 7\n",
            "accuracy: 0.00%\n",
            "4/4 [==============================] - 0s 7ms/step - loss: 1.5539 - accuracy: 0.0000e+00\n",
            "At SNR = 8\n",
            "accuracy: 0.00%\n",
            "4/4 [==============================] - 0s 7ms/step - loss: 1.5119 - accuracy: 0.0000e+00\n",
            "At SNR = 9\n",
            "accuracy: 0.00%\n",
            "4/4 [==============================] - 0s 6ms/step - loss: 1.4842 - accuracy: 0.0000e+00\n",
            "At SNR = 10\n",
            "accuracy: 0.00%\n",
            "4/4 [==============================] - 0s 7ms/step - loss: 1.4405 - accuracy: 0.0000e+00\n",
            "At SNR = 11\n",
            "accuracy: 0.00%\n",
            "4/4 [==============================] - 0s 6ms/step - loss: 1.4162 - accuracy: 0.0000e+00\n",
            "At SNR = 12\n",
            "accuracy: 0.00%\n",
            "4/4 [==============================] - 0s 6ms/step - loss: 1.4227 - accuracy: 0.0000e+00\n",
            "At SNR = 13\n",
            "accuracy: 0.00%\n",
            "4/4 [==============================] - 0s 6ms/step - loss: 1.3755 - accuracy: 0.0000e+00\n",
            "At SNR = 14\n",
            "accuracy: 0.00%\n",
            "4/4 [==============================] - 0s 6ms/step - loss: 1.4486 - accuracy: 0.0000e+00\n",
            "At SNR = 15\n",
            "accuracy: 0.00%\n",
            "4/4 [==============================] - 0s 6ms/step - loss: 1.3741 - accuracy: 0.0300\n",
            "At SNR = 16\n",
            "accuracy: 3.00%\n",
            "4/4 [==============================] - 0s 6ms/step - loss: 1.3788 - accuracy: 0.0400\n",
            "At SNR = 17\n",
            "accuracy: 4.00%\n",
            "4/4 [==============================] - 0s 6ms/step - loss: 1.1806 - accuracy: 0.1800\n",
            "At SNR = 18\n",
            "accuracy: 18.00%\n",
            "4/4 [==============================] - 0s 6ms/step - loss: 1.2489 - accuracy: 0.1600\n",
            "At SNR = 19\n",
            "accuracy: 16.00%\n",
            "4/4 [==============================] - 0s 6ms/step - loss: 1.1625 - accuracy: 0.2500\n",
            "At SNR = 20\n",
            "accuracy: 25.00%\n",
            "4/4 [==============================] - 0s 8ms/step - loss: 1.0375 - accuracy: 0.3800\n",
            "At SNR = 21\n",
            "accuracy: 38.00%\n",
            "4/4 [==============================] - 0s 6ms/step - loss: 0.8388 - accuracy: 0.5700\n",
            "At SNR = 22\n",
            "accuracy: 57.00%\n",
            "4/4 [==============================] - 0s 7ms/step - loss: 0.7212 - accuracy: 0.7300\n",
            "At SNR = 23\n",
            "accuracy: 73.00%\n",
            "4/4 [==============================] - 0s 6ms/step - loss: 0.6616 - accuracy: 0.7000\n",
            "At SNR = 24\n",
            "accuracy: 70.00%\n",
            "4/4 [==============================] - 0s 9ms/step - loss: 0.6077 - accuracy: 0.7800\n",
            "At SNR = 25\n",
            "accuracy: 78.00%\n",
            "4/4 [==============================] - 0s 7ms/step - loss: 0.6748 - accuracy: 0.6900\n",
            "At SNR = 26\n",
            "accuracy: 69.00%\n",
            "4/4 [==============================] - 0s 6ms/step - loss: 0.6485 - accuracy: 0.6500\n",
            "At SNR = 27\n",
            "accuracy: 65.00%\n",
            "4/4 [==============================] - 0s 6ms/step - loss: 0.7047 - accuracy: 0.6000\n",
            "At SNR = 28\n",
            "accuracy: 60.00%\n",
            "4/4 [==============================] - 0s 6ms/step - loss: 0.6359 - accuracy: 0.7200\n",
            "At SNR = 29\n",
            "accuracy: 72.00%\n",
            "4/4 [==============================] - 0s 6ms/step - loss: 0.7788 - accuracy: 0.5000\n",
            "At SNR = 30\n",
            "accuracy: 50.00%\n",
            "4/4 [==============================] - 0s 6ms/step - loss: 0.7592 - accuracy: 0.5600\n",
            "At SNR = 31\n",
            "accuracy: 56.00%\n",
            "4/4 [==============================] - 0s 6ms/step - loss: 0.6637 - accuracy: 0.6100\n",
            "At SNR = 32\n",
            "accuracy: 61.00%\n",
            "4/4 [==============================] - 0s 6ms/step - loss: 0.8099 - accuracy: 0.4800\n",
            "At SNR = 33\n",
            "accuracy: 48.00%\n",
            "4/4 [==============================] - 0s 7ms/step - loss: 0.6331 - accuracy: 0.6500\n",
            "At SNR = 34\n",
            "accuracy: 65.00%\n",
            "4/4 [==============================] - 0s 6ms/step - loss: 0.6016 - accuracy: 0.7000\n",
            "At SNR = 35\n",
            "accuracy: 70.00%\n",
            "4/4 [==============================] - 0s 8ms/step - loss: 0.6744 - accuracy: 0.5800\n",
            "At SNR = 36\n",
            "accuracy: 58.00%\n",
            "4/4 [==============================] - 0s 6ms/step - loss: 0.5848 - accuracy: 0.6900\n",
            "At SNR = 37\n",
            "accuracy: 69.00%\n",
            "4/4 [==============================] - 0s 7ms/step - loss: 0.5049 - accuracy: 0.7600\n",
            "At SNR = 38\n",
            "accuracy: 76.00%\n",
            "4/4 [==============================] - 0s 6ms/step - loss: 0.5345 - accuracy: 0.7800\n",
            "At SNR = 39\n",
            "accuracy: 78.00%\n",
            "4/4 [==============================] - 0s 6ms/step - loss: 0.5904 - accuracy: 0.6500\n",
            "At SNR = 40\n",
            "accuracy: 65.00%\n",
            "4/4 [==============================] - 0s 7ms/step - loss: 0.6013 - accuracy: 0.6400\n",
            "At SNR = 41\n",
            "accuracy: 64.00%\n",
            "4/4 [==============================] - 0s 6ms/step - loss: 0.6189 - accuracy: 0.6800\n",
            "At SNR = 42\n",
            "accuracy: 68.00%\n",
            "4/4 [==============================] - 0s 6ms/step - loss: 0.6392 - accuracy: 0.6500\n",
            "At SNR = 43\n",
            "accuracy: 65.00%\n",
            "4/4 [==============================] - 0s 6ms/step - loss: 0.6452 - accuracy: 0.5800\n",
            "At SNR = 44\n",
            "accuracy: 58.00%\n",
            "4/4 [==============================] - 0s 7ms/step - loss: 0.6088 - accuracy: 0.7500\n",
            "At SNR = 45\n",
            "accuracy: 75.00%\n"
          ],
          "name": "stdout"
        },
        {
          "output_type": "stream",
          "text": [
            "No handles with labels found to put in legend.\n"
          ],
          "name": "stderr"
        },
        {
          "output_type": "display_data",
          "data": {
            "image/png": "[encoded data removed]",
            "text/plain": [
              "<Figure size 432x288 with 1 Axes>"
            ]
          },
          "metadata": {
            "tags": [],
            "needs_background": "light"
          }
        }
      ]
    },
    {
      "cell_type": "code",
      "metadata": {
        "id": "QU6AblXWX77p"
      },
      "source": [
        ""
      ],
      "execution_count": null,
      "outputs": []
    }
  ]
}