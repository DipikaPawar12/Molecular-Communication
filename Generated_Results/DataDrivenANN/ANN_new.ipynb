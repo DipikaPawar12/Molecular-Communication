{
  "nbformat": 4,
  "nbformat_minor": 0,
  "metadata": {
    "colab": {
      "name": "ANN_new.ipynb",
      "provenance": [],
      "collapsed_sections": []
    },
    "kernelspec": {
      "name": "python3",
      "display_name": "Python 3"
    }
  },
  "cells": [
    {
      "cell_type": "code",
      "metadata": {
        "id": "8JZ-IeQglU0y",
        "outputId": "612d679a-cf1b-4c69-f85d-3bd7b9760bb8",
        "colab": {
          "base_uri": "https://localhost:8080/"
        }
      },
      "source": [
        "import numpy as np\n",
        "import math\n",
        "from scipy.stats import norm\n",
        "import time\n",
        "import pandas as pd\n",
        "import statsmodels.api as sm\n",
        "from keras.layers import Dense, Dropout, LSTM, Embedding\n",
        "from keras.models import Sequential\n",
        "from matplotlib import pyplot as plt\n",
        "\n",
        "%matplotlib inline"
      ],
      "execution_count": null,
      "outputs": [
        {
          "output_type": "stream",
          "text": [
            "/usr/local/lib/python3.6/dist-packages/statsmodels/tools/_testing.py:19: FutureWarning: pandas.util.testing is deprecated. Use the functions in the public API at pandas.testing instead.\n",
            "  import pandas.util.testing as tm\n"
          ],
          "name": "stderr"
        }
      ]
    },
    {
      "cell_type": "code",
      "metadata": {
        "id": "b6IMYhimpJ3Z",
        "outputId": "8fff7636-8749-4471-a0b0-83f10536297e",
        "colab": {
          "resources": {
            "http://localhost:8080/nbextensions/google.colab/files.js": {
              "data": "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",
              "ok": true,
              "headers": [
                [
                  "content-type",
                  "application/javascript"
                ]
              ],
              "status": 200,
              "status_text": ""
            }
          },
          "base_uri": "https://localhost:8080/",
          "height": 238
        }
      },
      "source": [
        "# Transmited label data file\n",
        "from google.colab import files\n",
        "import io\n",
        "#number of receiverd particle\n",
        "uploadedy = files.upload()\n",
        "#data label\n",
        "uploadedx = files.upload()\n",
        "#number of receiverd particle\n",
        "uploadedy1 = files.upload()\n",
        "#data label\n",
        "uploadedx1 = files.upload()"
      ],
      "execution_count": null,
      "outputs": [
        {
          "output_type": "display_data",
          "data": {
            "text/html": [
              "\n",
              "     <input type=\"file\" id=\"files-1f00e0a7-0197-44ef-81ce-63fc0ffe358d\" name=\"files[]\" multiple disabled\n",
              "        style=\"border:none\" />\n",
              "     <output id=\"result-1f00e0a7-0197-44ef-81ce-63fc0ffe358d\">\n",
              "      Upload widget is only available when the cell has been executed in the\n",
              "      current browser session. Please rerun this cell to enable.\n",
              "      </output>\n",
              "      <script src=\"/nbextensions/google.colab/files.js\"></script> "
            ],
            "text/plain": [
              "<IPython.core.display.HTML object>"
            ]
          },
          "metadata": {
            "tags": []
          }
        },
        {
          "output_type": "stream",
          "text": [
            "Saving ri.csv to ri (1).csv\n"
          ],
          "name": "stdout"
        },
        {
          "output_type": "display_data",
          "data": {
            "text/html": [
              "\n",
              "     <input type=\"file\" id=\"files-482507cb-28e4-4730-8d5a-e23e1bc1353c\" name=\"files[]\" multiple disabled\n",
              "        style=\"border:none\" />\n",
              "     <output id=\"result-482507cb-28e4-4730-8d5a-e23e1bc1353c\">\n",
              "      Upload widget is only available when the cell has been executed in the\n",
              "      current browser session. Please rerun this cell to enable.\n",
              "      </output>\n",
              "      <script src=\"/nbextensions/google.colab/files.js\"></script> "
            ],
            "text/plain": [
              "<IPython.core.display.HTML object>"
            ]
          },
          "metadata": {
            "tags": []
          }
        },
        {
          "output_type": "stream",
          "text": [
            "Saving tx.csv to tx (1).csv\n"
          ],
          "name": "stdout"
        },
        {
          "output_type": "display_data",
          "data": {
            "text/html": [
              "\n",
              "     <input type=\"file\" id=\"files-017051f2-0030-4898-a688-8fde4eadd225\" name=\"files[]\" multiple disabled\n",
              "        style=\"border:none\" />\n",
              "     <output id=\"result-017051f2-0030-4898-a688-8fde4eadd225\">\n",
              "      Upload widget is only available when the cell has been executed in the\n",
              "      current browser session. Please rerun this cell to enable.\n",
              "      </output>\n",
              "      <script src=\"/nbextensions/google.colab/files.js\"></script> "
            ],
            "text/plain": [
              "<IPython.core.display.HTML object>"
            ]
          },
          "metadata": {
            "tags": []
          }
        },
        {
          "output_type": "stream",
          "text": [
            "Saving riw.csv to riw.csv\n"
          ],
          "name": "stdout"
        },
        {
          "output_type": "display_data",
          "data": {
            "text/html": [
              "\n",
              "     <input type=\"file\" id=\"files-9ece6f7b-04cc-477a-b2b4-c65ceb8d228b\" name=\"files[]\" multiple disabled\n",
              "        style=\"border:none\" />\n",
              "     <output id=\"result-9ece6f7b-04cc-477a-b2b4-c65ceb8d228b\">\n",
              "      Upload widget is only available when the cell has been executed in the\n",
              "      current browser session. Please rerun this cell to enable.\n",
              "      </output>\n",
              "      <script src=\"/nbextensions/google.colab/files.js\"></script> "
            ],
            "text/plain": [
              "<IPython.core.display.HTML object>"
            ]
          },
          "metadata": {
            "tags": []
          }
        },
        {
          "output_type": "stream",
          "text": [
            "Saving riw.csv to riw (1).csv\n"
          ],
          "name": "stdout"
        }
      ]
    },
    {
      "cell_type": "code",
      "metadata": {
        "id": "6761r0dalbkE",
        "outputId": "755c811a-cfda-4dff-e536-b494c42fc0ec",
        "colab": {
          "resources": {
            "http://localhost:8080/nbextensions/google.colab/files.js": {
              "data": "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",
              "ok": true,
              "headers": [
                [
                  "content-type",
                  "application/javascript"
                ]
              ],
              "status": 200,
              "status_text": ""
            }
          },
          "base_uri": "https://localhost:8080/",
          "height": 73
        }
      },
      "source": [
        "uploadedx1 = files.upload()"
      ],
      "execution_count": null,
      "outputs": [
        {
          "output_type": "display_data",
          "data": {
            "text/html": [
              "\n",
              "     <input type=\"file\" id=\"files-deda6155-8f81-4c75-8a54-d3567f5b690e\" name=\"files[]\" multiple disabled\n",
              "        style=\"border:none\" />\n",
              "     <output id=\"result-deda6155-8f81-4c75-8a54-d3567f5b690e\">\n",
              "      Upload widget is only available when the cell has been executed in the\n",
              "      current browser session. Please rerun this cell to enable.\n",
              "      </output>\n",
              "      <script src=\"/nbextensions/google.colab/files.js\"></script> "
            ],
            "text/plain": [
              "<IPython.core.display.HTML object>"
            ]
          },
          "metadata": {
            "tags": []
          }
        },
        {
          "output_type": "stream",
          "text": [
            "Saving txw.csv to txw.csv\n"
          ],
          "name": "stdout"
        }
      ]
    },
    {
      "cell_type": "code",
      "metadata": {
        "id": "RiLnU_KFmm_g"
      },
      "source": [
        "#for the training\n",
        "datasetx = pd.read_csv(io.BytesIO(uploadedx['tx.csv']), delimiter=',')\n",
        "datasety = pd.read_csv(io.BytesIO(uploadedy['ri.csv']), delimiter=',')\n",
        "\n",
        "#for the testing\n",
        "datasetx1 = pd.read_csv(io.BytesIO(uploadedx1['txw.csv']), delimiter=',')\n",
        "datasety1 = pd.read_csv(io.BytesIO(uploadedy1['riw.csv']), delimiter=',')\n",
        "\n",
        "ri = datasety.iloc[:, 0:1].values\n",
        "tx = datasetx.iloc[:, 0:1].values\n",
        "\n",
        "ri1 = datasety1.iloc[:, 0:1].values\n",
        "tx1 = datasetx1.iloc[:, 0:1].values\n"
      ],
      "execution_count": null,
      "outputs": []
    },
    {
      "cell_type": "code",
      "metadata": {
        "id": "jwv8SI1Po05d",
        "outputId": "d03bf1fc-993a-4cc9-eeea-55e64ccdbf77",
        "colab": {
          "base_uri": "https://localhost:8080/"
        }
      },
      "source": [
        "ri=np.array(ri)\n",
        "ri = np.reshape(ri, (ri.shape[0], 1))\n",
        "\n",
        "# Shape of FM signal vector\n",
        "print(\"Size of data: \" + str(ri.shape))"
      ],
      "execution_count": null,
      "outputs": [
        {
          "output_type": "stream",
          "text": [
            "Size of data: (3000, 1)\n"
          ],
          "name": "stdout"
        }
      ]
    },
    {
      "cell_type": "code",
      "metadata": {
        "id": "Q5cTdcLgpV3S"
      },
      "source": [
        "tx=np.array(tx)\n",
        "tx = np.reshape(tx, (tx.shape[0], 1))"
      ],
      "execution_count": null,
      "outputs": []
    },
    {
      "cell_type": "code",
      "metadata": {
        "id": "i2GKhY8FphkF"
      },
      "source": [
        "seed = 900\n",
        "np.random.seed(seed)\n",
        "#Loading the data, here It's a feature data, which contains 4 features as mentioned in papers \n",
        "\n",
        "#ANN Model \n",
        "# create model\n",
        "model1 = Sequential() # This means it's sequential model, which is from one direction to another in sequence \n",
        "model1.add(Dense(7, input_dim=1, kernel_initializer='uniform', activation='sigmoid'))#First layer with 20 nodes and as we have 4 features so input_dim would be 4, relu suits well for binary classification so I have used it  #You can add as many hidden layer you want, but with time complexity \n",
        "\n",
        "model1.add(Dense(1, kernel_initializer='uniform', activation='sigmoid')) #Output layer\n",
        "# Compile model1\n",
        "#This function you have to explore in case you want to do the mathematic analysis\n",
        "model1.compile(loss='binary_crossentropy', optimizer='adam', metrics=['accuracy'])"
      ],
      "execution_count": null,
      "outputs": []
    },
    {
      "cell_type": "code",
      "metadata": {
        "id": "hwMPzkpKsBOq",
        "outputId": "55b8bc73-09de-48ae-d133-25460cca102f",
        "colab": {
          "base_uri": "https://localhost:8080/"
        }
      },
      "source": [
        "#for the snr V/S epoch graph we are saving the model into the histroy varible...\n",
        "history1=model1.fit(ri, tx, validation_split=0.33,epochs=50, batch_size=100,  verbose=1)\n",
        "\n",
        "#Evaluate the model\n",
        "scores = model1.evaluate(ri, tx)\n",
        "print(\"\\n%s: %.2f%%\" % (model1.metrics_names[1], scores[1]*100))\n",
        "\n"
      ],
      "execution_count": null,
      "outputs": [
        {
          "output_type": "stream",
          "text": [
            "Epoch 1/50\n",
            "21/21 [==============================] - 0s 4ms/step - loss: 0.6311 - accuracy: 0.6177 - val_loss: 0.9457 - val_accuracy: 0.4914\n",
            "Epoch 2/50\n",
            "21/21 [==============================] - 0s 2ms/step - loss: 0.6269 - accuracy: 0.6137 - val_loss: 0.9282 - val_accuracy: 0.4914\n",
            "Epoch 3/50\n",
            "21/21 [==============================] - 0s 2ms/step - loss: 0.6261 - accuracy: 0.6177 - val_loss: 0.9296 - val_accuracy: 0.4914\n",
            "Epoch 4/50\n",
            "21/21 [==============================] - 0s 2ms/step - loss: 0.6270 - accuracy: 0.6068 - val_loss: 0.9231 - val_accuracy: 0.4914\n",
            "Epoch 5/50\n",
            "21/21 [==============================] - 0s 2ms/step - loss: 0.6252 - accuracy: 0.6167 - val_loss: 0.9373 - val_accuracy: 0.4914\n",
            "Epoch 6/50\n",
            "21/21 [==============================] - 0s 2ms/step - loss: 0.6252 - accuracy: 0.6137 - val_loss: 0.9338 - val_accuracy: 0.4914\n",
            "Epoch 7/50\n",
            "21/21 [==============================] - 0s 2ms/step - loss: 0.6246 - accuracy: 0.6142 - val_loss: 0.9391 - val_accuracy: 0.4914\n",
            "Epoch 8/50\n",
            "21/21 [==============================] - 0s 3ms/step - loss: 0.6244 - accuracy: 0.6182 - val_loss: 0.9443 - val_accuracy: 0.4914\n",
            "Epoch 9/50\n",
            "21/21 [==============================] - 0s 3ms/step - loss: 0.6240 - accuracy: 0.6142 - val_loss: 0.9426 - val_accuracy: 0.4914\n",
            "Epoch 10/50\n",
            "21/21 [==============================] - 0s 3ms/step - loss: 0.6236 - accuracy: 0.6157 - val_loss: 0.9592 - val_accuracy: 0.4914\n",
            "Epoch 11/50\n",
            "21/21 [==============================] - 0s 2ms/step - loss: 0.6235 - accuracy: 0.6137 - val_loss: 0.9460 - val_accuracy: 0.4914\n",
            "Epoch 12/50\n",
            "21/21 [==============================] - 0s 2ms/step - loss: 0.6232 - accuracy: 0.6167 - val_loss: 0.9630 - val_accuracy: 0.4914\n",
            "Epoch 13/50\n",
            "21/21 [==============================] - 0s 2ms/step - loss: 0.6228 - accuracy: 0.6182 - val_loss: 0.9529 - val_accuracy: 0.4914\n",
            "Epoch 14/50\n",
            "21/21 [==============================] - 0s 2ms/step - loss: 0.6227 - accuracy: 0.6132 - val_loss: 0.9555 - val_accuracy: 0.4914\n",
            "Epoch 15/50\n",
            "21/21 [==============================] - 0s 2ms/step - loss: 0.6224 - accuracy: 0.6098 - val_loss: 0.9682 - val_accuracy: 0.4914\n",
            "Epoch 16/50\n",
            "21/21 [==============================] - 0s 2ms/step - loss: 0.6220 - accuracy: 0.6172 - val_loss: 0.9746 - val_accuracy: 0.4914\n",
            "Epoch 17/50\n",
            "21/21 [==============================] - 0s 3ms/step - loss: 0.6218 - accuracy: 0.6137 - val_loss: 0.9728 - val_accuracy: 0.4914\n",
            "Epoch 18/50\n",
            "21/21 [==============================] - 0s 2ms/step - loss: 0.6215 - accuracy: 0.6172 - val_loss: 0.9795 - val_accuracy: 0.4914\n",
            "Epoch 19/50\n",
            "21/21 [==============================] - 0s 2ms/step - loss: 0.6212 - accuracy: 0.6152 - val_loss: 0.9744 - val_accuracy: 0.4914\n",
            "Epoch 20/50\n",
            "21/21 [==============================] - 0s 2ms/step - loss: 0.6209 - accuracy: 0.6172 - val_loss: 0.9831 - val_accuracy: 0.4914\n",
            "Epoch 21/50\n",
            "21/21 [==============================] - 0s 2ms/step - loss: 0.6221 - accuracy: 0.6112 - val_loss: 0.9975 - val_accuracy: 0.4914\n",
            "Epoch 22/50\n",
            "21/21 [==============================] - 0s 2ms/step - loss: 0.6213 - accuracy: 0.6172 - val_loss: 0.9823 - val_accuracy: 0.4914\n",
            "Epoch 23/50\n",
            "21/21 [==============================] - 0s 2ms/step - loss: 0.6201 - accuracy: 0.6127 - val_loss: 0.9940 - val_accuracy: 0.4914\n",
            "Epoch 24/50\n",
            "21/21 [==============================] - 0s 2ms/step - loss: 0.6198 - accuracy: 0.6147 - val_loss: 0.9942 - val_accuracy: 0.4914\n",
            "Epoch 25/50\n",
            "21/21 [==============================] - 0s 2ms/step - loss: 0.6197 - accuracy: 0.6162 - val_loss: 0.9902 - val_accuracy: 0.4914\n",
            "Epoch 26/50\n",
            "21/21 [==============================] - 0s 2ms/step - loss: 0.6195 - accuracy: 0.6093 - val_loss: 1.0038 - val_accuracy: 0.4914\n",
            "Epoch 27/50\n",
            "21/21 [==============================] - 0s 2ms/step - loss: 0.6191 - accuracy: 0.6103 - val_loss: 1.0048 - val_accuracy: 0.4914\n",
            "Epoch 28/50\n",
            "21/21 [==============================] - 0s 3ms/step - loss: 0.6199 - accuracy: 0.6147 - val_loss: 1.0102 - val_accuracy: 0.4914\n",
            "Epoch 29/50\n",
            "21/21 [==============================] - 0s 3ms/step - loss: 0.6190 - accuracy: 0.6127 - val_loss: 1.0170 - val_accuracy: 0.4914\n",
            "Epoch 30/50\n",
            "21/21 [==============================] - 0s 3ms/step - loss: 0.6190 - accuracy: 0.6177 - val_loss: 1.0244 - val_accuracy: 0.4914\n",
            "Epoch 31/50\n",
            "21/21 [==============================] - 0s 3ms/step - loss: 0.6193 - accuracy: 0.6152 - val_loss: 1.0282 - val_accuracy: 0.4914\n",
            "Epoch 32/50\n",
            "21/21 [==============================] - 0s 3ms/step - loss: 0.6185 - accuracy: 0.6142 - val_loss: 1.0394 - val_accuracy: 0.4914\n",
            "Epoch 33/50\n",
            "21/21 [==============================] - 0s 3ms/step - loss: 0.6179 - accuracy: 0.6182 - val_loss: 1.0398 - val_accuracy: 0.4914\n",
            "Epoch 34/50\n",
            "21/21 [==============================] - 0s 3ms/step - loss: 0.6177 - accuracy: 0.6177 - val_loss: 1.0337 - val_accuracy: 0.4914\n",
            "Epoch 35/50\n",
            "21/21 [==============================] - 0s 3ms/step - loss: 0.6173 - accuracy: 0.6103 - val_loss: 1.0435 - val_accuracy: 0.4914\n",
            "Epoch 36/50\n",
            "21/21 [==============================] - 0s 3ms/step - loss: 0.6174 - accuracy: 0.6132 - val_loss: 1.0115 - val_accuracy: 0.4914\n",
            "Epoch 37/50\n",
            "21/21 [==============================] - 0s 2ms/step - loss: 0.6234 - accuracy: 0.6162 - val_loss: 1.0780 - val_accuracy: 0.4914\n",
            "Epoch 38/50\n",
            "21/21 [==============================] - 0s 2ms/step - loss: 0.6188 - accuracy: 0.6122 - val_loss: 1.0335 - val_accuracy: 0.4914\n",
            "Epoch 39/50\n",
            "21/21 [==============================] - 0s 2ms/step - loss: 0.6169 - accuracy: 0.6122 - val_loss: 1.0591 - val_accuracy: 0.4914\n",
            "Epoch 40/50\n",
            "21/21 [==============================] - 0s 2ms/step - loss: 0.6162 - accuracy: 0.6172 - val_loss: 1.0400 - val_accuracy: 0.4914\n",
            "Epoch 41/50\n",
            "21/21 [==============================] - 0s 2ms/step - loss: 0.6164 - accuracy: 0.6122 - val_loss: 1.0602 - val_accuracy: 0.4914\n",
            "Epoch 42/50\n",
            "21/21 [==============================] - 0s 3ms/step - loss: 0.6161 - accuracy: 0.6152 - val_loss: 1.0757 - val_accuracy: 0.4914\n",
            "Epoch 43/50\n",
            "21/21 [==============================] - 0s 3ms/step - loss: 0.6153 - accuracy: 0.6147 - val_loss: 1.0461 - val_accuracy: 0.4914\n",
            "Epoch 44/50\n",
            "21/21 [==============================] - 0s 3ms/step - loss: 0.6154 - accuracy: 0.6132 - val_loss: 1.0792 - val_accuracy: 0.4914\n",
            "Epoch 45/50\n",
            "21/21 [==============================] - 0s 3ms/step - loss: 0.6158 - accuracy: 0.6122 - val_loss: 1.0743 - val_accuracy: 0.4914\n",
            "Epoch 46/50\n",
            "21/21 [==============================] - 0s 2ms/step - loss: 0.6158 - accuracy: 0.6147 - val_loss: 1.0879 - val_accuracy: 0.4914\n",
            "Epoch 47/50\n",
            "21/21 [==============================] - 0s 2ms/step - loss: 0.6150 - accuracy: 0.6197 - val_loss: 1.0705 - val_accuracy: 0.4914\n",
            "Epoch 48/50\n",
            "21/21 [==============================] - 0s 2ms/step - loss: 0.6144 - accuracy: 0.6147 - val_loss: 1.0924 - val_accuracy: 0.4914\n",
            "Epoch 49/50\n",
            "21/21 [==============================] - 0s 3ms/step - loss: 0.6140 - accuracy: 0.6167 - val_loss: 1.0535 - val_accuracy: 0.4914\n",
            "Epoch 50/50\n",
            "21/21 [==============================] - 0s 3ms/step - loss: 0.6168 - accuracy: 0.6108 - val_loss: 1.1132 - val_accuracy: 0.4914\n",
            "94/94 [==============================] - 0s 930us/step - loss: 0.7794 - accuracy: 0.5757\n",
            "\n",
            "accuracy: 57.57%\n"
          ],
          "name": "stdout"
        }
      ]
    },
    {
      "cell_type": "code",
      "metadata": {
        "id": "P21ub7a0JOx8",
        "outputId": "99f34adc-2480-4a6c-8333-9c120f13abbe",
        "colab": {
          "base_uri": "https://localhost:8080/",
          "height": 590
        }
      },
      "source": [
        "\n",
        "print(history1.history.keys())\n",
        "# summarize history for accuracy\n",
        "plt.plot(history1.history['accuracy'])\n",
        "plt.plot(history1.history['val_accuracy'])\n",
        "plt.title('model accuracy for ANN')\n",
        "plt.ylabel('accuracy')\n",
        "plt.xlabel('epoch')\n",
        "plt.savefig('ann_accu')\n",
        "plt.legend(['train', 'test'], loc='upper left')\n",
        "plt.show()\n",
        " #summarize history for loss\n",
        "plt.plot(history1.history['loss'])\n",
        "plt.plot(history1.history['val_loss'])\n",
        "plt.title('model loss for ANN')\n",
        "plt.ylabel('loss')\n",
        "plt.xlabel('epoch')\n",
        "plt.savefig('ann_loss')\n",
        "plt.legend(['train', 'test'], loc='upper left')\n",
        "plt.show()"
      ],
      "execution_count": null,
      "outputs": [
        {
          "output_type": "stream",
          "text": [
            "dict_keys(['loss', 'accuracy', 'val_loss', 'val_accuracy'])\n"
          ],
          "name": "stdout"
        },
        {
          "output_type": "display_data",
          "data": {
            "image/png": "[encoded data removed]",
            "text/plain": [
              "<Figure size 432x288 with 1 Axes>"
            ]
          },
          "metadata": {
            "tags": [],
            "needs_background": "light"
          }
        },
        {
          "output_type": "display_data",
          "data": {
            "image/png": "[encoded data removed]",
            "text/plain": [
              "<Figure size 432x288 with 1 Axes>"
            ]
          },
          "metadata": {
            "tags": [],
            "needs_background": "light"
          }
        }
      ]
    },
    {
      "cell_type": "code",
      "metadata": {
        "id": "OgoUnUyrlG53",
        "outputId": "1c06b1d5-9f77-4f8a-c41c-c4d13b6ecb30",
        "colab": {
          "base_uri": "https://localhost:8080/",
          "height": 1000
        }
      },
      "source": [
        "pd_FM = {}\n",
        "idx=0\n",
        "X_FM_lb=[]\n",
        "for snr in range(-5, 50, 1):\n",
        "  X_FM_lb.append(ri1[idx:idx+100])\n",
        "  idx=idx+100\n",
        "\n",
        "#print(X_FM_lb)\n",
        "\n",
        "\n",
        "for snr in range(-5, 50, 1):\n",
        "  y_snr = np.ones((X_FM_lb[snr+5].shape[0], 1))\n",
        "  scores = model1.evaluate(X_FM_lb[snr+5], y_snr)\n",
        "  print(\"At SNR = \" + str(snr) + \"\\n%s: %.2f%%\" % (model1.metrics_names[1], scores[1]*100))\n",
        "  pd_FM[snr] =(1- scores[1])/2\n",
        "  \n",
        "plt.plot(range(-5, 50, 1), list(pd_FM.values()))\n",
        "\n",
        "# printing the graph\n",
        "plt.yscale('log')\n",
        "plt.xlabel('SNR Range')\n",
        "plt.ylabel('BER')\n",
        "plt.grid()\n",
        "plt.savefig('ann_orig')\n",
        "plt.legend(loc='upper right',ncol = 1)\n",
        "plt.savefig('snip')\n",
        "plt.show()"
      ],
      "execution_count": null,
      "outputs": [
        {
          "output_type": "stream",
          "text": [
            "4/4 [==============================] - 0s 3ms/step - loss: 1.4018 - accuracy: 0.0000e+00\n",
            "At SNR = -5\n",
            "accuracy: 0.00%\n",
            "4/4 [==============================] - 0s 2ms/step - loss: 1.4021 - accuracy: 0.0000e+00\n",
            "At SNR = -4\n",
            "accuracy: 0.00%\n",
            "4/4 [==============================] - 0s 2ms/step - loss: 1.4018 - accuracy: 0.0000e+00\n",
            "At SNR = -3\n",
            "accuracy: 0.00%\n",
            "4/4 [==============================] - 0s 2ms/step - loss: 1.3997 - accuracy: 0.0000e+00\n",
            "At SNR = -2\n",
            "accuracy: 0.00%\n",
            "4/4 [==============================] - 0s 2ms/step - loss: 1.4001 - accuracy: 0.0000e+00\n",
            "At SNR = -1\n",
            "accuracy: 0.00%\n",
            "4/4 [==============================] - 0s 2ms/step - loss: 1.4018 - accuracy: 0.0000e+00\n",
            "At SNR = 0\n",
            "accuracy: 0.00%\n",
            "4/4 [==============================] - 0s 2ms/step - loss: 1.3996 - accuracy: 0.0000e+00\n",
            "At SNR = 1\n",
            "accuracy: 0.00%\n",
            "4/4 [==============================] - 0s 2ms/step - loss: 1.3974 - accuracy: 0.0000e+00\n",
            "At SNR = 2\n",
            "accuracy: 0.00%\n",
            "4/4 [==============================] - 0s 2ms/step - loss: 1.3980 - accuracy: 0.0000e+00\n",
            "At SNR = 3\n",
            "accuracy: 0.00%\n",
            "4/4 [==============================] - 0s 2ms/step - loss: 1.3955 - accuracy: 0.0000e+00\n",
            "At SNR = 4\n",
            "accuracy: 0.00%\n",
            "4/4 [==============================] - 0s 2ms/step - loss: 1.3943 - accuracy: 0.0000e+00\n",
            "At SNR = 5\n",
            "accuracy: 0.00%\n",
            "4/4 [==============================] - 0s 2ms/step - loss: 1.3933 - accuracy: 0.0000e+00\n",
            "At SNR = 6\n",
            "accuracy: 0.00%\n",
            "4/4 [==============================] - 0s 2ms/step - loss: 1.3940 - accuracy: 0.0000e+00\n",
            "At SNR = 7\n",
            "accuracy: 0.00%\n",
            "4/4 [==============================] - 0s 2ms/step - loss: 1.3875 - accuracy: 0.0000e+00\n",
            "At SNR = 8\n",
            "accuracy: 0.00%\n",
            "4/4 [==============================] - 0s 2ms/step - loss: 1.3817 - accuracy: 0.0000e+00\n",
            "At SNR = 9\n",
            "accuracy: 0.00%\n",
            "4/4 [==============================] - 0s 2ms/step - loss: 1.3792 - accuracy: 0.0000e+00\n",
            "At SNR = 10\n",
            "accuracy: 0.00%\n",
            "4/4 [==============================] - 0s 2ms/step - loss: 1.3695 - accuracy: 0.0000e+00\n",
            "At SNR = 11\n",
            "accuracy: 0.00%\n",
            "4/4 [==============================] - 0s 2ms/step - loss: 1.3644 - accuracy: 0.0000e+00\n",
            "At SNR = 12\n",
            "accuracy: 0.00%\n",
            "4/4 [==============================] - 0s 2ms/step - loss: 1.3588 - accuracy: 0.0000e+00\n",
            "At SNR = 13\n",
            "accuracy: 0.00%\n",
            "4/4 [==============================] - 0s 2ms/step - loss: 1.3428 - accuracy: 0.0000e+00\n",
            "At SNR = 14\n",
            "accuracy: 0.00%\n",
            "4/4 [==============================] - 0s 2ms/step - loss: 1.3299 - accuracy: 0.0000e+00\n",
            "At SNR = 15\n",
            "accuracy: 0.00%\n",
            "4/4 [==============================] - 0s 3ms/step - loss: 1.2887 - accuracy: 0.0000e+00\n",
            "At SNR = 16\n",
            "accuracy: 0.00%\n",
            "4/4 [==============================] - 0s 2ms/step - loss: 1.2690 - accuracy: 0.0000e+00\n",
            "At SNR = 17\n",
            "accuracy: 0.00%\n",
            "4/4 [==============================] - 0s 2ms/step - loss: 1.1952 - accuracy: 0.0000e+00\n",
            "At SNR = 18\n",
            "accuracy: 0.00%\n",
            "4/4 [==============================] - 0s 2ms/step - loss: 1.1755 - accuracy: 0.0000e+00\n",
            "At SNR = 19\n",
            "accuracy: 0.00%\n",
            "4/4 [==============================] - 0s 2ms/step - loss: 1.1025 - accuracy: 0.0000e+00\n",
            "At SNR = 20\n",
            "accuracy: 0.00%\n",
            "4/4 [==============================] - 0s 2ms/step - loss: 1.0518 - accuracy: 0.0000e+00\n",
            "At SNR = 21\n",
            "accuracy: 0.00%\n",
            "4/4 [==============================] - 0s 2ms/step - loss: 0.9753 - accuracy: 0.0000e+00\n",
            "At SNR = 22\n",
            "accuracy: 0.00%\n",
            "4/4 [==============================] - 0s 2ms/step - loss: 0.9237 - accuracy: 0.0000e+00\n",
            "At SNR = 23\n",
            "accuracy: 0.00%\n",
            "4/4 [==============================] - 0s 2ms/step - loss: 0.8634 - accuracy: 0.0000e+00\n",
            "At SNR = 24\n",
            "accuracy: 0.00%\n",
            "4/4 [==============================] - 0s 2ms/step - loss: 0.8257 - accuracy: 0.0000e+00\n",
            "At SNR = 25\n",
            "accuracy: 0.00%\n",
            "4/4 [==============================] - 0s 2ms/step - loss: 0.7931 - accuracy: 0.0000e+00\n",
            "At SNR = 26\n",
            "accuracy: 0.00%\n",
            "4/4 [==============================] - 0s 2ms/step - loss: 0.7703 - accuracy: 0.0000e+00\n",
            "At SNR = 27\n",
            "accuracy: 0.00%\n",
            "4/4 [==============================] - 0s 2ms/step - loss: 0.7391 - accuracy: 0.2000\n",
            "At SNR = 28\n",
            "accuracy: 20.00%\n",
            "4/4 [==============================] - 0s 2ms/step - loss: 0.7069 - accuracy: 0.4700\n",
            "At SNR = 29\n",
            "accuracy: 47.00%\n",
            "4/4 [==============================] - 0s 2ms/step - loss: 0.6689 - accuracy: 0.4900\n",
            "At SNR = 30\n",
            "accuracy: 49.00%\n",
            "4/4 [==============================] - 0s 2ms/step - loss: 0.6130 - accuracy: 0.7000\n",
            "At SNR = 31\n",
            "accuracy: 70.00%\n",
            "4/4 [==============================] - 0s 2ms/step - loss: 0.5553 - accuracy: 1.0000\n",
            "At SNR = 32\n",
            "accuracy: 100.00%\n",
            "4/4 [==============================] - 0s 2ms/step - loss: 0.4802 - accuracy: 1.0000\n",
            "At SNR = 33\n",
            "accuracy: 100.00%\n",
            "4/4 [==============================] - 0s 2ms/step - loss: 0.4019 - accuracy: 1.0000\n",
            "At SNR = 34\n",
            "accuracy: 100.00%\n",
            "4/4 [==============================] - 0s 2ms/step - loss: 0.3197 - accuracy: 1.0000\n",
            "At SNR = 35\n",
            "accuracy: 100.00%\n",
            "4/4 [==============================] - 0s 2ms/step - loss: 0.2534 - accuracy: 1.0000\n",
            "At SNR = 36\n",
            "accuracy: 100.00%\n",
            "4/4 [==============================] - 0s 2ms/step - loss: 0.1995 - accuracy: 1.0000\n",
            "At SNR = 37\n",
            "accuracy: 100.00%\n",
            "4/4 [==============================] - 0s 2ms/step - loss: 0.1600 - accuracy: 1.0000\n",
            "At SNR = 38\n",
            "accuracy: 100.00%\n",
            "4/4 [==============================] - 0s 2ms/step - loss: 0.1347 - accuracy: 1.0000\n",
            "At SNR = 39\n",
            "accuracy: 100.00%\n",
            "4/4 [==============================] - 0s 2ms/step - loss: 0.1220 - accuracy: 1.0000\n",
            "At SNR = 40\n",
            "accuracy: 100.00%\n",
            "4/4 [==============================] - 0s 2ms/step - loss: 0.1169 - accuracy: 1.0000\n",
            "At SNR = 41\n",
            "accuracy: 100.00%\n",
            "4/4 [==============================] - 0s 2ms/step - loss: 0.1151 - accuracy: 1.0000\n",
            "At SNR = 42\n",
            "accuracy: 100.00%\n",
            "4/4 [==============================] - 0s 2ms/step - loss: 0.1146 - accuracy: 1.0000\n",
            "At SNR = 43\n",
            "accuracy: 100.00%\n",
            "4/4 [==============================] - 0s 2ms/step - loss: 0.1145 - accuracy: 1.0000\n",
            "At SNR = 44\n",
            "accuracy: 100.00%\n",
            "4/4 [==============================] - 0s 2ms/step - loss: 0.1145 - accuracy: 1.0000\n",
            "At SNR = 45\n",
            "accuracy: 100.00%\n",
            "4/4 [==============================] - 0s 2ms/step - loss: 0.1145 - accuracy: 1.0000\n",
            "At SNR = 46\n",
            "accuracy: 100.00%\n",
            "4/4 [==============================] - 0s 2ms/step - loss: 0.1145 - accuracy: 1.0000\n",
            "At SNR = 47\n",
            "accuracy: 100.00%\n",
            "4/4 [==============================] - 0s 2ms/step - loss: 0.1145 - accuracy: 1.0000\n",
            "At SNR = 48\n",
            "accuracy: 100.00%\n",
            "4/4 [==============================] - 0s 2ms/step - loss: 0.1145 - accuracy: 1.0000\n",
            "At SNR = 49\n",
            "accuracy: 100.00%\n"
          ],
          "name": "stdout"
        },
        {
          "output_type": "stream",
          "text": [
            "No handles with labels found to put in legend.\n"
          ],
          "name": "stderr"
        },
        {
          "output_type": "display_data",
          "data": {
            "image/png": "[encoded data removed]",
            "text/plain": [
              "<Figure size 432x288 with 1 Axes>"
            ]
          },
          "metadata": {
            "tags": [],
            "needs_background": "light"
          }
        }
      ]
    }
  ]
}